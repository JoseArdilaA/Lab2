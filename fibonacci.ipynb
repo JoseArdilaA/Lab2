# -*- coding: utf-8 -*-
import time

def fibonacci(i):
    if i == 0 or i == 1:
        return 1
    else:
        return fibonacci(i-1) + fibonacci(i-2)

n = 45

start_time = time.time()
fib = fibonacci(n)
end_time = time.time()

print("el valor de fibonacci para", str(n), "operciones es: ", fib)
print("tomo un tiempo de:", str(end_time - start_time), "segundos")