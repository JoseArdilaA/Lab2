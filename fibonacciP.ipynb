{
 "cells": [
  {
   "cell_type": "code",
   "execution_count": 3,
   "metadata": {},
   "outputs": [
    {
     "name": "stdout",
     "output_type": "stream",
     "text": [
      "('el valor de fibonacci para', '47', 'operciones es: ', 4807526976)\n",
      "('tomo un tiempo de:', '1105.29978991', 'segundos')\n"
     ]
    }
   ],
   "source": [
    "# -*- coding: utf-8 -*-\n",
    "import time\n",
    "\n",
    "def fibonacci(i):\n",
    "    if i == 0 or i == 1:\n",
    "        return 1\n",
    "    else:\n",
    "        return fibonacci(i-1) + fibonacci(i-2)\n",
    "\n",
    "n = 47\n",
    "\n",
    "start_time = time.time()\n",
    "fib = fibonacci(n)\n",
    "end_time = time.time()\n",
    "\n",
    "print(\"el valor de fibonacci para\", str(n), \"operciones es: \", fib)\n",
    "print(\"tomo un tiempo de:\", str(end_time - start_time), \"segundos\")"
   ]
  },
  {
   "cell_type": "code",
   "execution_count": null,
   "metadata": {},
   "outputs": [],
   "source": []
  }
 ],
 "metadata": {
  "kernelspec": {
   "display_name": "Python 2",
   "language": "python",
   "name": "python2"
  },
  "language_info": {
   "codemirror_mode": {
    "name": "ipython",
    "version": 2
   },
   "file_extension": ".py",
   "mimetype": "text/x-python",
   "name": "python",
   "nbconvert_exporter": "python",
   "pygments_lexer": "ipython2",
   "version": "2.7.12"
  }
 },
 "nbformat": 4,
 "nbformat_minor": 2
}